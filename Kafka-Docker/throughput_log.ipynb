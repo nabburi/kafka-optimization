{
 "cells": [
  {
   "cell_type": "markdown",
   "metadata": {},
   "source": []
  },
  {
   "cell_type": "markdown",
   "metadata": {},
   "source": [
    "Kafka’s throughput is usually limited by network I/O, disk I/O, or CPU depending on the setup.\n",
    "A well-tuned Kafka cluster on decent hardware might achieve 100k–500k events/sec total across multiple consumers, but your single-node localhost setup shouldn’t come close to that without extraordinary conditions (e.g., all data in RAM, no network latency)."
   ]
  },
  {
   "cell_type": "markdown",
   "metadata": {},
   "source": [
    "Current Results:\n",
    "\n",
    "    Per Consumer:\n",
    "        Consumer 0: 7,000 messages in 2.19s → 3,196.87 events/sec\n",
    "        Consumer 1: 7,000 messages in 2.19s → 3,198.83 events/sec\n",
    "        Consumer 2: 7,000 messages in 2.19s → 3,195.39 events/sec\n",
    "    Total:\n",
    "        21,000 messages (7,000 × 3) in 2.20s → 9,562.09 events/sec"
   ]
  }
 ],
 "metadata": {
  "language_info": {
   "name": "python"
  }
 },
 "nbformat": 4,
 "nbformat_minor": 2
}
