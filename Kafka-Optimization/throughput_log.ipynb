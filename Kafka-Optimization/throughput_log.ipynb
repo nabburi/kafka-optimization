{
 "cells": [
  {
   "cell_type": "markdown",
   "metadata": {},
   "source": [
    "Producer time: 0.01s, Throughput: 76686.73 events/sec\n",
    "Consumer time: 6.31s, Throughput: 158.54 events/sec\n",
    "Expect ~2-5k events/sec (defaults: batch.size=16384, linger.ms=0, fetch.max.bytes=52428800)"
   ]
  },
  {
   "cell_type": "markdown",
   "metadata": {},
   "source": [
    "expect ~6-8k events/sec (more batching, slight latency trade-off)\n",
    "batch_size=32768,  # Double default (16384 → 32768)\n",
    "linger_ms=5        # Add 5ms delay to batch more\n",
    "\n",
    "Tuned Producer: 75006.78 events/sec - tuning didn't help but hurt\n",
    "    batch_size = 32768, #Double default(16384->32768)\n",
    "    linger_ms = 5 #add 5ms delay to batch more\n",
    "Tuned Consumer: 653.06 events/sec - Bottleneck: polling overhead, small message count (1000), or local setup limits (e.g., single partition)\n",
    "    fetch_max_bytes = 1048576001, #Double default(1048576->1048576001) 50MB -> 100MB\n",
    "    max_partition_fetch_bytes = 5242880 #5MB/partition(up from 1MB)"
   ]
  },
  {
   "cell_type": "markdown",
   "metadata": {},
   "source": []
  }
 ],
 "metadata": {
  "language_info": {
   "name": "python"
  }
 },
 "nbformat": 4,
 "nbformat_minor": 2
}
